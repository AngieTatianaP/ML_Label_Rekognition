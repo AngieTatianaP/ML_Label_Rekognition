{
 "cells": [
  {
   "cell_type": "markdown",
   "id": "6d7b5894-cd4b-40a4-8c04-0ffc596aa3a8",
   "metadata": {},
   "source": [
    "# Dependencies\n"
   ]
  },
  {
   "cell_type": "markdown",
   "id": "598344e4-d306-4de5-ad08-b9cb250b96d7",
   "metadata": {},
   "source": [
    "## Installation"
   ]
  },
  {
   "cell_type": "code",
   "execution_count": 1,
   "id": "7859e608-fa3c-426c-81f6-05b083da3f9f",
   "metadata": {},
   "outputs": [
    {
     "name": "stdout",
     "output_type": "stream",
     "text": [
      "Requirement already satisfied: opencv-python in /opt/anaconda3/lib/python3.9/site-packages (4.7.0.72)\n",
      "Requirement already satisfied: numpy>=1.19.3 in /opt/anaconda3/lib/python3.9/site-packages (from opencv-python) (1.20.3)\n",
      "Requirement already satisfied: opencv-python in /opt/anaconda3/lib/python3.9/site-packages (4.7.0.72)\n",
      "Requirement already satisfied: opencv-python-headless in /opt/anaconda3/lib/python3.9/site-packages (4.7.0.72)\n",
      "Requirement already satisfied: numpy>=1.19.3 in /opt/anaconda3/lib/python3.9/site-packages (from opencv-python) (1.20.3)\n",
      "Requirement already satisfied: pyqt5 in /opt/anaconda3/lib/python3.9/site-packages (5.15.9)\n",
      "Requirement already satisfied: lxml in /opt/anaconda3/lib/python3.9/site-packages (4.9.2)\n",
      "Requirement already satisfied: PyQt5-Qt5>=5.15.2 in /opt/anaconda3/lib/python3.9/site-packages (from pyqt5) (5.15.2)\n",
      "Requirement already satisfied: PyQt5-sip<13,>=12.11 in /opt/anaconda3/lib/python3.9/site-packages (from pyqt5) (12.11.1)\n"
     ]
    }
   ],
   "source": [
    "!pip install opencv-python\n",
    "!pip install opencv-python opencv-python-headless\n",
    "!pip install --upgrade pyqt5 lxml"
   ]
  },
  {
   "cell_type": "markdown",
   "id": "d399720b-42da-4566-be37-5613055dc048",
   "metadata": {},
   "source": [
    "## Imports"
   ]
  },
  {
   "cell_type": "code",
   "execution_count": 2,
   "id": "9fdcf610-b59e-4ac7-bb92-b1d01fb63c7b",
   "metadata": {},
   "outputs": [],
   "source": [
    "import uuid # Import uuid\n",
    "import time # Import time\n",
    "import cv2  # Import opencv\n",
    "import os   # Import Operating System"
   ]
  },
  {
   "cell_type": "markdown",
   "id": "61fbbca3-4cbe-4fdf-9745-3d969b281064",
   "metadata": {},
   "source": [
    "# Images to Collet"
   ]
  },
  {
   "cell_type": "code",
   "execution_count": 3,
   "id": "a6a044ec-8b88-45f3-afec-0b5fe3d000bf",
   "metadata": {},
   "outputs": [],
   "source": [
    "labels = ['thumbsup', 'thumbsdown', 'thankyou', 'livelong'] #Define the images to collect\n",
    "number_imgs = 5"
   ]
  },
  {
   "cell_type": "markdown",
   "id": "82b0d35f-2e28-4f01-883b-7029e81f8732",
   "metadata": {},
   "source": [
    "# Configure the Folders"
   ]
  },
  {
   "cell_type": "code",
   "execution_count": 4,
   "id": "c639826d-1fb1-4304-9947-4a7d43bccc35",
   "metadata": {},
   "outputs": [],
   "source": [
    "IMAGES_PATH = os.path.join('Tensorflow', 'workspace', 'images', 'collectedimages')"
   ]
  },
  {
   "cell_type": "code",
   "execution_count": 5,
   "id": "d0cad943-86a7-4c28-a10c-f530c6f90639",
   "metadata": {},
   "outputs": [],
   "source": [
    "# Create the folder if it doesn't exists\n",
    "if not os.path.exists(IMAGES_PATH):\n",
    "    if os.name == 'posix':\n",
    "        !mkdir -p {IMAGES_PATH}\n",
    "    if os.name == 'nt':\n",
    "         !mkdir {IMAGES_PATH}\n",
    "for label in labels:\n",
    "    path = os.path.join(IMAGES_PATH, label)\n",
    "    if not os.path.exists(path):\n",
    "        !mkdir {path}"
   ]
  },
  {
   "cell_type": "markdown",
   "id": "0f71231a-08a8-4094-9483-40c9eace352c",
   "metadata": {},
   "source": [
    "# Capture Images with web camera"
   ]
  },
  {
   "cell_type": "code",
   "execution_count": 6,
   "id": "a9c29ff0-02e2-4689-aa83-5af4f52d091a",
   "metadata": {},
   "outputs": [
    {
     "name": "stdout",
     "output_type": "stream",
     "text": [
      "Collecting images for thumbsup\n",
      "Collecting image 0\n",
      "Collecting image 1\n",
      "Collecting image 2\n",
      "Collecting image 3\n",
      "Collecting image 4\n"
     ]
    },
    {
     "name": "stderr",
     "output_type": "stream",
     "text": [
      "2023-03-03 15:31:37.243 python[97599:1204720] IMKClient Stall detected, *please Report* your user scenario attaching a spindump (or sysdiagnose) that captures the problem - (imkxpc_bundleIdentifierWithReply:) block performed very slowly (2.07 secs).\n"
     ]
    },
    {
     "name": "stdout",
     "output_type": "stream",
     "text": [
      "Collecting images for thumbsdown\n",
      "Collecting image 0\n",
      "Collecting image 1\n",
      "Collecting image 2\n",
      "Collecting image 3\n",
      "Collecting image 4\n",
      "Collecting images for thankyou\n",
      "Collecting image 0\n",
      "Collecting image 1\n",
      "Collecting image 2\n",
      "Collecting image 3\n",
      "Collecting image 4\n",
      "Collecting images for livelong\n",
      "Collecting image 0\n",
      "Collecting image 1\n",
      "Collecting image 2\n",
      "Collecting image 3\n",
      "Collecting image 4\n"
     ]
    }
   ],
   "source": [
    "for label in labels:\n",
    "    cap = cv2.VideoCapture(0)\n",
    "    print('Collecting images for {}'.format(label))\n",
    "    time.sleep(5)\n",
    "    for imgnum in range(number_imgs):\n",
    "        print('Collecting image {}'.format(imgnum))\n",
    "        ret, frame = cap.read()\n",
    "        imgname = os.path.join(IMAGES_PATH,label,label+'.'+'{}.jpg'.format(str(uuid.uuid1())))\n",
    "        cv2.imwrite(imgname, frame)\n",
    "        cv2.imshow('frame', frame)\n",
    "        time.sleep(2)\n",
    "\n",
    "        if cv2.waitKey(1) & 0xFF == ord('q'):\n",
    "            break\n",
    "cap.release()\n",
    "cv2.destroyAllWindows()"
   ]
  },
  {
   "cell_type": "code",
   "execution_count": 7,
   "id": "3c790643-8ac9-4203-8d83-e9554e094c11",
   "metadata": {},
   "outputs": [],
   "source": [
    "LABELIMG_PATH = os.path.join('Tensorflow', 'labelImg')"
   ]
  },
  {
   "cell_type": "code",
   "execution_count": 8,
   "id": "d8bb4a87-8b3f-4ce6-89eb-75626e652bb7",
   "metadata": {},
   "outputs": [],
   "source": [
    "if not os.path.exists(LABELIMG_PATH):\n",
    "    !mkdir {LABELIMG_PATH}\n",
    "    !git clone https://github.com/tzutalin/labelImg {LABELIMG_PATH}"
   ]
  },
  {
   "cell_type": "code",
   "execution_count": 9,
   "id": "f091950b-5c30-4588-8e3d-5ecdefeed567",
   "metadata": {},
   "outputs": [],
   "source": [
    "!cd {LABELIMG_PATH} && pyrcc5 -o libs/resources.py resources.qrc && python labelImg.py"
   ]
  },
  {
   "cell_type": "markdown",
   "id": "d8a25460-b9e9-46de-8bbe-e8c2f0728578",
   "metadata": {},
   "source": [
    " # Move them into a Training and Testing Partition"
   ]
  },
  {
   "cell_type": "code",
   "execution_count": 10,
   "id": "af870dee-fed9-4068-8fca-231a117b0aef",
   "metadata": {},
   "outputs": [],
   "source": [
    "TRAIN_PATH = os.path.join('Tensorflow', 'workspace', 'images', 'train')\n",
    "TEST_PATH = os.path.join('Tensorflow', 'workspace', 'images', 'test')\n",
    "ARCHIVE_PATH = os.path.join('Tensorflow', 'workspace', 'images', 'archive.tar.gz')"
   ]
  },
  {
   "cell_type": "code",
   "execution_count": 11,
   "id": "fe02a5df-7d5f-47de-91ba-bd644dd0e576",
   "metadata": {},
   "outputs": [],
   "source": [
    "!tar -czf {ARCHIVE_PATH} {TRAIN_PATH} {TEST_PATH}"
   ]
  }
 ],
 "metadata": {
  "kernelspec": {
   "display_name": "blumer",
   "language": "python",
   "name": "blumer"
  },
  "language_info": {
   "codemirror_mode": {
    "name": "ipython",
    "version": 3
   },
   "file_extension": ".py",
   "mimetype": "text/x-python",
   "name": "python",
   "nbconvert_exporter": "python",
   "pygments_lexer": "ipython3",
   "version": "3.9.7"
  }
 },
 "nbformat": 4,
 "nbformat_minor": 5
}
